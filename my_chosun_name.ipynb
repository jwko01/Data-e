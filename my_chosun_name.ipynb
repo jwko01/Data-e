{
 "cells": [
  {
   "cell_type": "code",
   "execution_count": 27,
   "id": "080ea945-621a-4554-83fc-3cb063e792fd",
   "metadata": {},
   "outputs": [
    {
     "name": "stdout",
     "output_type": "stream",
     "text": [
      "['쌍', '쇠', '복', '돌', '팽', '육', '쌍', '개', '칠', '갑', '삼', '방']\n",
      "['봉', '구', '욕', '포', '똥', '삼', '식', '석', '놈', '님', '년', '돌', '단', '득', '방', '질', '장', '걸', '래', '룡', '동', '순', '자', '박', '창', '언', '것', '포', '만', '단', '국']\n"
     ]
    }
   ],
   "source": [
    "month = ['쌍','쇠','복','돌','팽','육','쌍','개','칠','갑','삼','방']\n",
    "print(month)\n",
    "day = ['봉','구','욕','포','똥','삼','식','석','놈','님','년','돌','단','득','방','질','장','걸','래','룡','동','순','자','박','창','언','것','포','만','단','국']\n",
    "print(day)"
   ]
  },
  {
   "cell_type": "code",
   "execution_count": 22,
   "id": "a40dff56-2f70-489d-ab0c-100a0d688cf7",
   "metadata": {},
   "outputs": [],
   "source": [
    "def get_my_chosun_name(family_name, month, day):\n",
    "    family_name = \"고\"\n",
    "    month = month.get[7]\n",
    "    day = day.get[2]\n",
    "    print(\"당신의 조선시대 이름은 %s,%s,%s 입니다.\" % (family_name, month, day))\n",
    "    get_my_chosun_name(family_name, month, day)\n",
    "    "
   ]
  },
  {
   "cell_type": "code",
   "execution_count": null,
   "id": "c64c09b8-e3a9-42cd-91dc-b436505a079e",
   "metadata": {},
   "outputs": [],
   "source": []
  },
  {
   "cell_type": "code",
   "execution_count": null,
   "id": "ac460d3c-5435-4fae-bdc4-7edd4eb176be",
   "metadata": {},
   "outputs": [],
   "source": []
  }
 ],
 "metadata": {
  "kernelspec": {
   "display_name": "Python 3 (ipykernel)",
   "language": "python",
   "name": "python3"
  },
  "language_info": {
   "codemirror_mode": {
    "name": "ipython",
    "version": 3
   },
   "file_extension": ".py",
   "mimetype": "text/x-python",
   "name": "python",
   "nbconvert_exporter": "python",
   "pygments_lexer": "ipython3",
   "version": "3.9.12"
  }
 },
 "nbformat": 4,
 "nbformat_minor": 5
}
