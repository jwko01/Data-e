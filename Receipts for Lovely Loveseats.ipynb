{
 "cells": [
  {
   "cell_type": "code",
   "execution_count": 35,
   "id": "9b0c1010-06b9-42eb-92f3-3fe131e9e79e",
   "metadata": {},
   "outputs": [],
   "source": [
    "lovely_loveseat_description=\"Lovely Loveseat. Tufted polyester blend on wood. 32 inches high x 40 inches wide x 30 inches deep. Red or white.\"\n",
    "lovely_loveseat_price = 254.00\n",
    "stylish_settee_description = \"Stylish Settee. Faux leather on birch. 29.50 inches high x 54.75 inches wide x 28 inches deep. Black.\"\n",
    "stylish_settee_price = 180.50\n",
    "luxurious_lamp_description = \"Luxurious Lamp. Glass and iron. 36 inches tall. Brown with cream shade.\"\n",
    "luxurious_lamp_price = 52.15\n",
    "sales_tax=1.088\n"
   ]
  },
  {
   "cell_type": "code",
   "execution_count": 44,
   "id": "8591d274-b462-42d6-89b6-b0b38a22e011",
   "metadata": {},
   "outputs": [
    {
     "name": "stdout",
     "output_type": "stream",
     "text": [
      "Customer One Items:\n",
      "Lovely Loveseat. Tufted polyester blend on wood. 32 inches high x 40 inches wide x 30 inches deep. Red or white.Luxurious Lamp. Glass and iron. 36 inches tall. Brown with cream shade.\n",
      "Customer One Total:\n",
      "333.0912\n"
     ]
    }
   ],
   "source": [
    "customer_one_total= lovely_loveseat_price + luxurious_lamp_price \n",
    "customer_one_itemization = lovely_loveseat_description + luxurious_lamp_description\n",
    "customer_one_tax = customer_one_total * sales_tax\n",
    "print(\"Customer One Items:\")\n",
    "print(customer_one_itemization)\n",
    "print(\"Customer One Total:\")\n",
    "print(customer_one_tax)\n"
   ]
  },
  {
   "cell_type": "code",
   "execution_count": null,
   "id": "b862dcaa-485b-4343-9056-f6e7e99ba5ce",
   "metadata": {},
   "outputs": [],
   "source": []
  }
 ],
 "metadata": {
  "kernelspec": {
   "display_name": "Python 3 (ipykernel)",
   "language": "python",
   "name": "python3"
  },
  "language_info": {
   "codemirror_mode": {
    "name": "ipython",
    "version": 3
   },
   "file_extension": ".py",
   "mimetype": "text/x-python",
   "name": "python",
   "nbconvert_exporter": "python",
   "pygments_lexer": "ipython3",
   "version": "3.9.12"
  }
 },
 "nbformat": 4,
 "nbformat_minor": 5
}
