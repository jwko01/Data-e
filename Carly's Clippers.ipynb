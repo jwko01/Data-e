{
 "cells": [
  {
   "cell_type": "code",
   "execution_count": 62,
   "id": "c57c39be-bcd5-4b60-a50e-4774b5494a11",
   "metadata": {},
   "outputs": [],
   "source": [
    "import numpy as np"
   ]
  },
  {
   "cell_type": "code",
   "execution_count": 74,
   "id": "5bc41393-3a0c-4d48-8b75-09ad815c4f37",
   "metadata": {},
   "outputs": [
    {
     "name": "stdout",
     "output_type": "stream",
     "text": [
      "['bouffant' 'pixie' 'dreadlocks' 'crew' 'bowl' 'bob' 'mohawk' 'flattop']\n",
      "[30 25 40 20 35 50 35]\n",
      "[2, 3, 5, 8, 4, 4, 6, 2]\n"
     ]
    }
   ],
   "source": [
    "hairstyles = [\"bouffant\",\"pixie\", \"dreadlocks\",\"crew\",\"bowl\",\"bob\", \"mohawk\", \"flattop\"]\n",
    "my_array = np.array(hairstyles)\n",
    "print(my_array)\n",
    "prices = [30,25, 40, 20 , 35, 50, 35]\n",
    "my_array = np.array(prices)\n",
    "print(my_array)\n",
    "last_week = [2,3,5,8,4,4,6,2]\n",
    "my_array = np.array(last_week)\n",
    "print(last_week)\n"
   ]
  },
  {
   "cell_type": "code",
   "execution_count": 64,
   "id": "4a62e87f-abbb-4489-83ff-c97ee0cd6b6d",
   "metadata": {},
   "outputs": [
    {
     "name": "stdout",
     "output_type": "stream",
     "text": [
      " Average  price  is 33.57142857142857\n"
     ]
    }
   ],
   "source": [
    "total_price = 0\n",
    "total_price = sum(prices)\n",
    "average_price = total_price/len(prices)\n",
    "print(' Average ' + ' price ' + ' is '+ str(average_price))\n"
   ]
  },
  {
   "cell_type": "code",
   "execution_count": 65,
   "id": "275c13ff-d536-4d43-8f2c-255bfa29e139",
   "metadata": {},
   "outputs": [
    {
     "name": "stdout",
     "output_type": "stream",
     "text": [
      "[25, 20, 35, 15, 30, 45, 30]\n"
     ]
    }
   ],
   "source": [
    "new_prices = [price-5 for price in prices]\n",
    "print(new_prices)"
   ]
  },
  {
   "cell_type": "code",
   "execution_count": 2,
   "id": "0eb63b65-3b99-4048-9c81-fa8009738dcf",
   "metadata": {},
   "outputs": [],
   "source": [
    "total_revenue = 0 \n",
    "    \n",
    "\n"
   ]
  },
  {
   "cell_type": "code",
   "execution_count": null,
   "id": "b04b6a1f-ccbf-453b-8a6c-b028d42c9567",
   "metadata": {},
   "outputs": [],
   "source": []
  }
 ],
 "metadata": {
  "kernelspec": {
   "display_name": "Python 3 (ipykernel)",
   "language": "python",
   "name": "python3"
  },
  "language_info": {
   "codemirror_mode": {
    "name": "ipython",
    "version": 3
   },
   "file_extension": ".py",
   "mimetype": "text/x-python",
   "name": "python",
   "nbconvert_exporter": "python",
   "pygments_lexer": "ipython3",
   "version": "3.9.12"
  }
 },
 "nbformat": 4,
 "nbformat_minor": 5
}
