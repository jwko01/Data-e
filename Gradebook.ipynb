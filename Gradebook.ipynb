{
 "cells": [
  {
   "cell_type": "code",
   "execution_count": 21,
   "id": "5f10af47-8a16-4f72-847b-49045131a10d",
   "metadata": {},
   "outputs": [],
   "source": [
    "import numpy as np"
   ]
  },
  {
   "cell_type": "code",
   "execution_count": 22,
   "id": "1c289967-6a9a-42d5-9e94-193240473e84",
   "metadata": {},
   "outputs": [
    {
     "name": "stdout",
     "output_type": "stream",
     "text": [
      "['physics' 'calculus' 'poetry' 'history']\n",
      "[98 97 85 88]\n",
      "[['physics' '98']\n",
      " ['calculus' '97']\n",
      " ['poetry' '85']\n",
      " ['history' '88']]\n"
     ]
    }
   ],
   "source": [
    "subjects = [\"physics\",\"calculus\",\"poetry\",\"history\"]\n",
    "my_array = np.array(subjects)\n",
    "print(my_array)\n",
    "grades = [98,97,85,88]\n",
    "my_array = np.array(grades)\n",
    "print(my_array)\n",
    "gradebook = [['physics', 98],['calculus',97], [ 'poetry', 85], ['history',88]]\n",
    "my_array = np.array(gradebook)\n",
    "print(my_array)\n"
   ]
  },
  {
   "cell_type": "code",
   "execution_count": 23,
   "id": "07249b34-80e0-4569-97d4-fd97fa7c006d",
   "metadata": {},
   "outputs": [
    {
     "name": "stdout",
     "output_type": "stream",
     "text": [
      "[['physics', 98], ['calculus', 97], ['poetry', 85], ['history', 88], ['computer science', 100], ['visual arts', 93]]\n"
     ]
    }
   ],
   "source": [
    "gradebook.append([\"computer science\",100])\n",
    "gradebook.append([\"visual arts\", 93])\n",
    "print(gradebook)\n"
   ]
  },
  {
   "cell_type": "code",
   "execution_count": 24,
   "id": "99f60b3e-46d1-4343-a89d-71e70eb31044",
   "metadata": {},
   "outputs": [
    {
     "ename": "TypeError",
     "evalue": "insert expected 2 arguments, got 1",
     "output_type": "error",
     "traceback": [
      "\u001b[1;31m---------------------------------------------------------------------------\u001b[0m",
      "\u001b[1;31mTypeError\u001b[0m                                 Traceback (most recent call last)",
      "Input \u001b[1;32mIn [24]\u001b[0m, in \u001b[0;36m<cell line: 3>\u001b[1;34m()\u001b[0m\n\u001b[0;32m      1\u001b[0m gradebook\u001b[38;5;241m.\u001b[39mremove([\u001b[38;5;124m\"\u001b[39m\u001b[38;5;124mvisual arts\u001b[39m\u001b[38;5;124m\"\u001b[39m, \u001b[38;5;241m93\u001b[39m])\n\u001b[0;32m      2\u001b[0m gradebook\u001b[38;5;241m.\u001b[39mappend([\u001b[38;5;124m\"\u001b[39m\u001b[38;5;124mvisual arts\u001b[39m\u001b[38;5;124m\"\u001b[39m, \u001b[38;5;241m98\u001b[39m])\n\u001b[1;32m----> 3\u001b[0m \u001b[43mgradebook\u001b[49m\u001b[38;5;241;43m.\u001b[39;49m\u001b[43minsert\u001b[49m\u001b[43m(\u001b[49m\u001b[43m[\u001b[49m\u001b[38;5;124;43m\"\u001b[39;49m\u001b[38;5;124;43mpoetry\u001b[39;49m\u001b[38;5;124;43m\"\u001b[39;49m\u001b[43m \u001b[49m\u001b[43m,\u001b[49m\u001b[43m \u001b[49m\u001b[38;5;124;43m\"\u001b[39;49m\u001b[38;5;124;43mpass\u001b[39;49m\u001b[38;5;124;43m\"\u001b[39;49m\u001b[43m]\u001b[49m\u001b[43m)\u001b[49m\n",
      "\u001b[1;31mTypeError\u001b[0m: insert expected 2 arguments, got 1"
     ]
    }
   ],
   "source": [
    "gradebook.remove([\"visual arts\", 93])\n",
    "gradebook.append([\"visual arts\", 98])\n",
    "gradebook.insert([\"poetry\" , \"pass\"])\n",
    "\n"
   ]
  },
  {
   "cell_type": "code",
   "execution_count": null,
   "id": "a1349356-2a93-481c-ad67-d02cca26db32",
   "metadata": {},
   "outputs": [],
   "source": []
  },
  {
   "cell_type": "code",
   "execution_count": null,
   "id": "000b3012-d4fa-4784-a44c-d024b16515f4",
   "metadata": {},
   "outputs": [],
   "source": []
  },
  {
   "cell_type": "code",
   "execution_count": null,
   "id": "46f351b6-776a-4c26-a79a-018240b97222",
   "metadata": {},
   "outputs": [],
   "source": []
  }
 ],
 "metadata": {
  "kernelspec": {
   "display_name": "Python 3 (ipykernel)",
   "language": "python",
   "name": "python3"
  },
  "language_info": {
   "codemirror_mode": {
    "name": "ipython",
    "version": 3
   },
   "file_extension": ".py",
   "mimetype": "text/x-python",
   "name": "python",
   "nbconvert_exporter": "python",
   "pygments_lexer": "ipython3",
   "version": "3.9.12"
  }
 },
 "nbformat": 4,
 "nbformat_minor": 5
}
